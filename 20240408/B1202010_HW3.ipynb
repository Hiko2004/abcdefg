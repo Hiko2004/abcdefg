{
  "nbformat": 4,
  "nbformat_minor": 0,
  "metadata": {
    "colab": {
      "provenance": []
    },
    "kernelspec": {
      "name": "python3",
      "display_name": "Python 3"
    },
    "language_info": {
      "name": "python"
    }
  },
  "cells": [
    {
      "cell_type": "code",
      "execution_count": 3,
      "metadata": {
        "colab": {
          "base_uri": "https://localhost:8080/"
        },
        "id": "2w1ZUZGROhvP",
        "outputId": "bfa2ce02-7355-4102-9f24-3f1bdc98efc5"
      },
      "outputs": [
        {
          "output_type": "stream",
          "name": "stdout",
          "text": [
            "請輸入年分2020\n",
            "是閏年\n"
          ]
        }
      ],
      "source": [
        "a=int(input(\"請輸入年分\"))\n",
        "if a>1582:\n",
        "  if a%400==0:\n",
        "   print(\"是閏年\")\n",
        "  elif a%4==0 and a%100!=0:\n",
        "    print(\"是閏年\")\n",
        "  else:\n",
        "    print(\"是平年\")\n",
        "elif a%4==0:\n",
        "  print(\"是閏年\")\n",
        "else:\n",
        "  print(\"是平年\")"
      ]
    }
  ]
}