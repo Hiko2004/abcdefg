{
  "nbformat": 4,
  "nbformat_minor": 0,
  "metadata": {
    "colab": {
      "provenance": []
    },
    "kernelspec": {
      "name": "python3",
      "display_name": "Python 3"
    },
    "language_info": {
      "name": "python"
    }
  },
  "cells": [
    {
      "cell_type": "code",
      "execution_count": 2,
      "metadata": {
        "colab": {
          "base_uri": "https://localhost:8080/",
          "height": 0
        },
        "id": "K70JZ_okjoZQ",
        "outputId": "31846523-3d39-4b89-97c7-5de7cb756b26"
      },
      "outputs": [
        {
          "output_type": "stream",
          "name": "stdout",
          "text": [
            "請輸入身高(公分)180\n",
            "請輸入體重(公斤)100\n",
            "BMI= 30.864197530864196\n",
            "體位:肥胖\n"
          ]
        }
      ],
      "source": [
        "a=float(input('請輸入身高(公分)'))\n",
        "b=float(input('請輸入體重(公斤)'))\n",
        "a/=100\n",
        "a*=a\n",
        "c=b/a\n",
        "print('BMI=',b/a)\n",
        "if c<18.5:\n",
        "  print(\"體位:過輕\")\n",
        "elif c==18.5:\n",
        "  print(\"體位:適中\")\n",
        "elif c<24:\n",
        "  print(\"體位:適中\")\n",
        "elif c==24:\n",
        "  print(\"體位:過重\")\n",
        "elif c<27:\n",
        "  print(\"體位:過重\")\n",
        "elif c==27:\n",
        "  print(\"體位:肥胖\")\n",
        "elif c>27:\n",
        "  print(\"體位:肥胖\")"
      ]
    },
    {
      "cell_type": "code",
      "source": [
        "a=float(input(\"請輸入第一個數字\"))\n",
        "p=str(input(\"請輸入一運算符號\"))\n",
        "b=float(input(\"請輸入第二個數字\"))\n",
        "if p==\"+\":\n",
        "  print(a+b)\n",
        "if p==\"-\":\n",
        "  print(a-b)\n",
        "if p==\"*\":\n",
        "  print(a*b)\n",
        "if p==\"/\":\n",
        "  print(a/b)"
      ],
      "metadata": {
        "colab": {
          "base_uri": "https://localhost:8080/",
          "height": 0
        },
        "id": "ChopQT0wmI_W",
        "outputId": "47733d5c-05e1-45c2-eeb4-696ae9d21949"
      },
      "execution_count": 5,
      "outputs": [
        {
          "output_type": "stream",
          "name": "stdout",
          "text": [
            "請輸入第一個數字2\n",
            "請輸入一運算符號+\n",
            "請輸入第二個數字3\n",
            "5.0\n"
          ]
        }
      ]
    }
  ]
}