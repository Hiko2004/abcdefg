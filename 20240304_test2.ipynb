{
  "nbformat": 4,
  "nbformat_minor": 0,
  "metadata": {
    "colab": {
      "provenance": []
    },
    "kernelspec": {
      "name": "python3",
      "display_name": "Python 3"
    },
    "language_info": {
      "name": "python"
    }
  },
  "cells": [
    {
      "cell_type": "code",
      "execution_count": null,
      "metadata": {
        "colab": {
          "base_uri": "https://localhost:8080/"
        },
        "id": "7T8HVejNduSj",
        "outputId": "e390b8c6-57cc-4cc5-8d8f-4c9a110176e6"
      },
      "outputs": [
        {
          "output_type": "stream",
          "name": "stdout",
          "text": [
            "OMG The answer is 495\n"
          ]
        }
      ],
      "source": [
        "x=2\n",
        "y=1\n",
        "\n",
        "a=2*x+y\n",
        "b=100-y\n",
        "\n",
        "z=a*b\n",
        "print(\"OMG The answer is\",z)"
      ]
    },
    {
      "cell_type": "code",
      "source": [
        "y=4\n",
        "a=100/(2*y+1)\n",
        "\n",
        "print(a)"
      ],
      "metadata": {
        "colab": {
          "base_uri": "https://localhost:8080/"
        },
        "id": "S00XPkp9fbG-",
        "outputId": "15f7ad37-1913-4c85-821f-c9c1ba2857da"
      },
      "execution_count": null,
      "outputs": [
        {
          "output_type": "stream",
          "name": "stdout",
          "text": [
            "11.11111111111111\n"
          ]
        }
      ]
    }
  ]
}