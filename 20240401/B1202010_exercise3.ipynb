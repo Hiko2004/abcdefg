{
  "nbformat": 4,
  "nbformat_minor": 0,
  "metadata": {
    "colab": {
      "provenance": []
    },
    "kernelspec": {
      "name": "python3",
      "display_name": "Python 3"
    },
    "language_info": {
      "name": "python"
    }
  },
  "cells": [
    {
      "cell_type": "code",
      "execution_count": 7,
      "metadata": {
        "colab": {
          "base_uri": "https://localhost:8080/"
        },
        "id": "Bwb1r6njd-1q",
        "outputId": "aa492e6c-e14d-43df-8f6d-65469cebba4d"
      },
      "outputs": [
        {
          "output_type": "stream",
          "name": "stdout",
          "text": [
            "{'姓名': '賴宏瑋', '性別': '男', '學號': 'M1129020'}\n",
            "88.33333333333333\n",
            "{'姓名': '許家綺', '性別': '女', '學號': 'M1129020'}\n",
            "95.0\n"
          ]
        }
      ],
      "source": [
        "a={'姓名':'賴宏瑋','性別':'男','作業分數':[95,100,90]}\n",
        "b={'學號':'M1129020'}\n",
        "c={**a,**b}\n",
        "import copy\n",
        "d=copy.deepcopy(c)\n",
        "c['作業分數'][1]=80\n",
        "d['姓名']='許家綺'\n",
        "d['性別']='女'\n",
        "e=c.pop('作業分數')\n",
        "f=list(e)\n",
        "g=(f[0]+f[1]+f[2])/3\n",
        "h=d.pop('作業分數')\n",
        "i=list(h)\n",
        "j=(h[0]+h[1]+h[2])/3\n",
        "print(c)\n",
        "print(g)\n",
        "print(d)\n",
        "print(j)"
      ]
    },
    {
      "cell_type": "code",
      "source": [
        "a=[100,50,45,60,90,95,80,50]\n",
        "a.insert(0,88)\n",
        "a[2:5]=[70,50]\n",
        "a.remove(50)\n",
        "print((a.pop(0)+a.pop(5)))"
      ],
      "metadata": {
        "colab": {
          "base_uri": "https://localhost:8080/"
        },
        "id": "sgp5NmC-eXto",
        "outputId": "46223867-3b85-4a78-f11d-5b8a92eb74f1"
      },
      "execution_count": 12,
      "outputs": [
        {
          "output_type": "stream",
          "name": "stdout",
          "text": [
            "138\n"
          ]
        }
      ]
    },
    {
      "cell_type": "code",
      "source": [
        "a=347//3\n",
        "b=347%3\n",
        "print(a,b,a**b)"
      ],
      "metadata": {
        "colab": {
          "base_uri": "https://localhost:8080/"
        },
        "id": "3lrnklSUeX3Q",
        "outputId": "7b3d539e-8d10-4b99-e9cf-59e3e8dceb97"
      },
      "execution_count": 13,
      "outputs": [
        {
          "output_type": "stream",
          "name": "stdout",
          "text": [
            "115 2 13225\n"
          ]
        }
      ]
    }
  ]
}