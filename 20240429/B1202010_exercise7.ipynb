{
  "nbformat": 4,
  "nbformat_minor": 0,
  "metadata": {
    "colab": {
      "provenance": []
    },
    "kernelspec": {
      "name": "python3",
      "display_name": "Python 3"
    },
    "language_info": {
      "name": "python"
    }
  },
  "cells": [
    {
      "cell_type": "code",
      "execution_count": 1,
      "metadata": {
        "id": "_HrXUzIKqvd2",
        "colab": {
          "base_uri": "https://localhost:8080/"
        },
        "outputId": "ef1cb79e-9054-4dec-b6c8-99af2d457050"
      },
      "outputs": [
        {
          "output_type": "stream",
          "name": "stdout",
          "text": [
            "請輸入聖誕樹高度10\n",
            "           *           \n",
            "          ***          \n",
            "         *****         \n",
            "        *******        \n",
            "       *********       \n",
            "      ***********      \n",
            "     *************     \n",
            "    ***************    \n",
            "   *****************   \n",
            "  *******************  \n",
            "          ***\n",
            "          ***\n",
            "          ***\n",
            "          ***\n",
            "          ***\n"
          ]
        }
      ],
      "source": [
        "def fk(x):\n",
        "\n",
        "  a=\"*\"\n",
        "  b=\" \"\n",
        "  y=x+1\n",
        "  for i in range(1,y):\n",
        "    d=2*i-1\n",
        "    c=(2*y-1-d)/2\n",
        "    k=int(c)\n",
        "    print(k*b,d*a,k*b)\n",
        "\n",
        "  for i in range(1,6):\n",
        "    e=3*a\n",
        "    f=(2*y-3)/2\n",
        "    print(int(f)*b,e)\n",
        "\n",
        "x=input(\"請輸入聖誕樹高度\")\n",
        "x=int(x)\n",
        "fk(x)"
      ]
    },
    {
      "cell_type": "code",
      "source": [
        "def BMI(a,b):\n",
        " a/=100\n",
        " a*=a\n",
        " return b/a\n",
        "\n",
        "try:\n",
        " a=float(input('請輸入身高(公分)'))\n",
        " b=float(input('請輸入體重(公斤)'))\n",
        " c=BMI(a,b)\n",
        " print('BMI=',c)\n",
        "\n",
        " if c<18.5:\n",
        "   print(\"體位:過輕\")\n",
        " elif c==18.5:\n",
        "   print(\"體位:適中\")\n",
        " elif c<24:\n",
        "   print(\"體位:適中\")\n",
        " elif c==24:\n",
        "   print(\"體位:過重\")\n",
        " elif c<27:\n",
        "   print(\"體位:過重\")\n",
        " elif c==27:\n",
        "   print(\"體位:肥胖\")\n",
        " elif c>27:\n",
        "   print(\"體位:肥胖\")\n",
        "except:\n",
        "  print('error')\n",
        "print('end')"
      ],
      "metadata": {
        "colab": {
          "base_uri": "https://localhost:8080/"
        },
        "id": "vvww53pxydJz",
        "outputId": "9d92e0f2-6041-4e5e-9945-4cea31f586b4"
      },
      "execution_count": 2,
      "outputs": [
        {
          "output_type": "stream",
          "name": "stdout",
          "text": [
            "請輸入身高(公分)183\n",
            "請輸入體重(公斤)100\n",
            "BMI= 29.860551225775623\n",
            "體位:肥胖\n",
            "end\n"
          ]
        }
      ]
    }
  ]
}