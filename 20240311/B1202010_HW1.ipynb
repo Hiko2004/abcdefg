{
  "nbformat": 4,
  "nbformat_minor": 0,
  "metadata": {
    "colab": {
      "provenance": []
    },
    "kernelspec": {
      "name": "python3",
      "display_name": "Python 3"
    },
    "language_info": {
      "name": "python"
    }
  },
  "cells": [
    {
      "cell_type": "code",
      "execution_count": 2,
      "metadata": {
        "id": "FpIUgd2AW8OA",
        "colab": {
          "base_uri": "https://localhost:8080/"
        },
        "outputId": "7ff39db1-dbca-4b69-c868-9b12658446bf"
      },
      "outputs": [
        {
          "output_type": "stream",
          "name": "stdout",
          "text": [
            "I'm a student\n"
          ]
        }
      ],
      "source": [
        "print(\"I'm a student\")"
      ]
    },
    {
      "cell_type": "code",
      "source": [
        "a=float(input(\"輸入x1:\"))\n",
        "b=float(input(\"輸入y1:\"))\n",
        "c=float(input(\"輸入x2:\"))\n",
        "d=float(input(\"輸入y2:\"))\n",
        "print(\"AB的距離是\",(((a-c)**2+(b-d)**2)**0.5))"
      ],
      "metadata": {
        "colab": {
          "base_uri": "https://localhost:8080/"
        },
        "id": "rQlLo--9vUlH",
        "outputId": "51ec7eeb-29a9-4e91-dec2-e82ef4fd2851"
      },
      "execution_count": 6,
      "outputs": [
        {
          "output_type": "stream",
          "name": "stdout",
          "text": [
            "輸入x1:5\n",
            "輸入y1:6\n",
            "輸入x2:8\n",
            "輸入y2:10\n",
            "AB的距離是 5.0\n"
          ]
        }
      ]
    },
    {
      "cell_type": "code",
      "source": [
        "a=float(input(\"輸入身高(公分)\"))\n",
        "b=float(input(\"輸入體重(公斤)\"))\n",
        "a/=100\n",
        "b/=a\n",
        "b/=a\n",
        "print(\"BMI=\",b)"
      ],
      "metadata": {
        "colab": {
          "base_uri": "https://localhost:8080/"
        },
        "id": "d6rRw738wrBr",
        "outputId": "5aeadb04-9d21-4b26-a160-8c1939fcd274"
      },
      "execution_count": 7,
      "outputs": [
        {
          "output_type": "stream",
          "name": "stdout",
          "text": [
            "輸入身高(公分)183\n",
            "輸入體重(公斤)105\n",
            "BMI= 31.353578787064407\n"
          ]
        }
      ]
    }
  ]
}